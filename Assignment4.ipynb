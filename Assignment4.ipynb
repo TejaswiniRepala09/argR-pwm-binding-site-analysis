{
 "cells": [
  {
   "cell_type": "code",
   "execution_count": 17,
   "id": "5937efe0",
   "metadata": {},
   "outputs": [
    {
     "data": {
      "text/plain": [
       "array([[ 8, 12, 21,  9,  4,  2, 21, 21,  3, 10,  8,  5,  7, 25,  4,  2,\n",
       "         2, 25],\n",
       "       [ 7,  4,  1,  6,  2,  3,  3,  3,  1,  0,  2,  0,  7,  0,  3,  3,\n",
       "        24,  0],\n",
       "       [ 3,  2,  1,  8,  2, 21,  2,  2,  0,  1,  0,  1,  0,  1,  0, 15,\n",
       "         0,  2],\n",
       "       [ 9,  9,  4,  4, 19,  1,  1,  1, 23, 16, 17, 21, 13,  1, 20,  7,\n",
       "         1,  0]])"
      ]
     },
     "execution_count": 17,
     "metadata": {},
     "output_type": "execute_result"
    }
   ],
   "source": [
    "import numpy as np\n",
    "with open(\"argR-counts-matrix.txt\", \"r\") as f:\n",
    "    lines = f.readlines()\n",
    "# Initialize an empty list\n",
    "counts = []\n",
    "# Loop through the lines in the input file\n",
    "for line in lines:\n",
    "    # Split the line by the \"|\" character\n",
    "    line = line.strip().split(\"|\")[1]\n",
    "\n",
    "    # Convert the numbers to integers and add them to the list\n",
    "    counts.append([int(x) for x in line.split()])\n",
    "counts = np.array(counts)\n",
    "counts"
   ]
  },
  {
   "cell_type": "code",
   "execution_count": 18,
   "id": "cc48fcbf",
   "metadata": {},
   "outputs": [
    {
     "data": {
      "text/plain": [
       "array([[ 9, 13, 22, 10,  5,  3, 22, 22,  4, 11,  9,  6,  8, 26,  5,  3,\n",
       "         3, 26],\n",
       "       [ 8,  5,  2,  7,  3,  4,  4,  4,  2,  1,  3,  1,  8,  1,  4,  4,\n",
       "        25,  1],\n",
       "       [ 4,  3,  2,  9,  3, 22,  3,  3,  1,  2,  1,  2,  1,  2,  1, 16,\n",
       "         1,  3],\n",
       "       [10, 10,  5,  5, 20,  2,  2,  2, 24, 17, 18, 22, 14,  2, 21,  8,\n",
       "         2,  1]])"
      ]
     },
     "execution_count": 18,
     "metadata": {},
     "output_type": "execute_result"
    }
   ],
   "source": [
    "pseudo_counts_matrix = counts + 1\n",
    "pseudo_counts_matrix"
   ]
  },
  {
   "cell_type": "code",
   "execution_count": 19,
   "id": "7be43486",
   "metadata": {},
   "outputs": [
    {
     "name": "stdout",
     "output_type": "stream",
     "text": [
      "Frequency matrix shape: (4, 18)\n"
     ]
    },
    {
     "data": {
      "text/plain": [
       "array([[0.29032258, 0.41935484, 0.70967742, 0.32258065, 0.16129032,\n",
       "        0.09677419, 0.70967742, 0.70967742, 0.12903226, 0.35483871,\n",
       "        0.29032258, 0.19354839, 0.25806452, 0.83870968, 0.16129032,\n",
       "        0.09677419, 0.09677419, 0.83870968],\n",
       "       [0.25806452, 0.16129032, 0.06451613, 0.22580645, 0.09677419,\n",
       "        0.12903226, 0.12903226, 0.12903226, 0.06451613, 0.03225806,\n",
       "        0.09677419, 0.03225806, 0.25806452, 0.03225806, 0.12903226,\n",
       "        0.12903226, 0.80645161, 0.03225806],\n",
       "       [0.12903226, 0.09677419, 0.06451613, 0.29032258, 0.09677419,\n",
       "        0.70967742, 0.09677419, 0.09677419, 0.03225806, 0.06451613,\n",
       "        0.03225806, 0.06451613, 0.03225806, 0.06451613, 0.03225806,\n",
       "        0.51612903, 0.03225806, 0.09677419],\n",
       "       [0.32258065, 0.32258065, 0.16129032, 0.16129032, 0.64516129,\n",
       "        0.06451613, 0.06451613, 0.06451613, 0.77419355, 0.5483871 ,\n",
       "        0.58064516, 0.70967742, 0.4516129 , 0.06451613, 0.67741935,\n",
       "        0.25806452, 0.06451613, 0.03225806]])"
      ]
     },
     "execution_count": 19,
     "metadata": {},
     "output_type": "execute_result"
    }
   ],
   "source": [
    "total_counts = np.sum(pseudo_counts_matrix, axis=0)\n",
    "# Calculate the frequency matrix\n",
    "freq_matrix = pseudo_counts_matrix / total_counts\n",
    "print(\"Frequency matrix shape:\", freq_matrix.shape)\n",
    "freq_matrix"
   ]
  },
  {
   "cell_type": "code",
   "execution_count": 20,
   "id": "ee915ce1",
   "metadata": {},
   "outputs": [
    {
     "name": "stdout",
     "output_type": "stream",
     "text": [
      "Weight matrix shape: (4, 18)\n"
     ]
    },
    {
     "data": {
      "text/plain": [
       "array([[ 0.21572869,  0.74624341,  1.50523531,  0.36773178, -0.63226822,\n",
       "        -1.36923381,  1.50523531,  1.50523531, -0.95419631,  0.50523531,\n",
       "         0.21572869, -0.36923381,  0.04580369,  1.74624341, -0.63226822,\n",
       "        -1.36923381, -1.36923381,  1.74624341],\n",
       "       [ 0.04580369, -0.63226822, -1.95419631, -0.14684139, -1.36923381,\n",
       "        -0.95419631, -0.95419631, -0.95419631, -1.95419631, -2.95419631,\n",
       "        -1.36923381, -2.95419631,  0.04580369, -2.95419631, -0.95419631,\n",
       "        -0.95419631,  1.68965988, -2.95419631],\n",
       "       [-0.95419631, -1.36923381, -1.95419631,  0.21572869, -1.36923381,\n",
       "         1.50523531, -1.36923381, -1.36923381, -2.95419631, -1.95419631,\n",
       "        -2.95419631, -1.95419631, -2.95419631, -1.95419631, -2.95419631,\n",
       "         1.04580369, -2.95419631, -1.36923381],\n",
       "       [ 0.36773178,  0.36773178, -0.63226822, -0.63226822,  1.36773178,\n",
       "        -1.95419631, -1.95419631, -1.95419631,  1.63076619,  1.13326653,\n",
       "         1.21572869,  1.50523531,  0.85315861, -1.95419631,  1.43812111,\n",
       "         0.04580369, -1.95419631, -2.95419631]])"
      ]
     },
     "execution_count": 20,
     "metadata": {},
     "output_type": "execute_result"
    }
   ],
   "source": [
    "pwm = np.log2(freq_matrix/0.25)\n",
    "print(\"Weight matrix shape:\", pwm.shape)\n",
    "pwm"
   ]
  },
  {
   "cell_type": "code",
   "execution_count": 21,
   "id": "4e2f45d9",
   "metadata": {},
   "outputs": [
    {
     "name": "stdout",
     "output_type": "stream",
     "text": [
      "        gene_id                                           sequence\n",
      "0     16127995    aacggcagaccaacatcaactgcaagctttacgcgaacgagccat...\n",
      "1     16127996    ccgtttgctgcatgatattgaaaaaaatatcaccaaataaaaaac...\n",
      "2     16127997    gaaacgggacgtgaactggagctggcggatattgaaattgaacct...\n",
      "3     16127998    ggggattaaagtctcgacggcagaagccagggctattttaccggc...\n",
      "4     16127999    aggcgaatatggcttgttcctcggcaccgcgcatccggcgaaatt...\n",
      "...         ...                                                ...\n",
      "4314  16132216    gtgctgacgactacgtggctaaaccgttttcaccccgcgaagtgt...\n",
      "4315  16132217    tgctgctgaaccggcgttactggagcaggcgctgggaaatttact...\n",
      "4316  16132218    acgtttattagttgtatgatgcaactagttggattattaaaataa...\n",
      "4317  16132219    gtgatgtagtcatctgcaccgatttcgaggccgagaattttatcg...\n",
      "4318  16132220    acaggctaagaggggccggacacccaataaaactacgcttcgttg...\n",
      "\n",
      "[4319 rows x 2 columns]\n"
     ]
    }
   ],
   "source": [
    "import pandas as pd\n",
    "df_gene_seq = pd.read_csv(r'E_coli_K12_MG1655.400_50\\\\E_coli_K12_MG1655.400_50', sep = \"\\\\\", header = None)\n",
    "df_gene_seq.rename(columns={0: 'gene_id', 1: 'sequence'}, inplace=True)\n",
    "df_gene_seq.drop(columns=2, inplace = True)\n",
    "# create an empty list to store the extracted sequences and gene_ids\n",
    "sequences = []\n",
    "gene_ids = []\n",
    "\n",
    "# iterate over each row in the DataFrame\n",
    "for index, row in df_gene_seq.iterrows():\n",
    "    # extract the sequence of length 450 from the sequence column\n",
    "    sequence = row['sequence'][:450]\n",
    "    # append the extracted sequence and gene_id to their respective lists\n",
    "    sequences.append(sequence)\n",
    "    gene_ids.append(row['gene_id'])\n",
    "\n",
    "# create a new DataFrame with the gene_id and extracted sequences\n",
    "new_df = pd.DataFrame({'gene_id': gene_ids, 'sequence': sequences})\n",
    "print(new_df)"
   ]
  },
  {
   "cell_type": "code",
   "execution_count": 24,
   "id": "840049ee",
   "metadata": {},
   "outputs": [
    {
     "name": "stdout",
     "output_type": "stream",
     "text": [
      "Gene ID: b3171 \n",
      "Gene ID: 16128258 \n",
      "Gene ID: 16132076 \n",
      "Gene ID: 16131126 \n",
      "Gene ID: 16131238 \n",
      "Gene ID: 16129301 \n",
      "Gene ID: 16128684 \n",
      "Gene ID: 16130583 \n",
      "Gene ID: 16131795 \n",
      "Gene ID: 16128026 \n",
      "Gene ID: 16129126 \n",
      "Gene ID: 49176132 \n",
      "Gene ID: 16132077 \n",
      "Gene ID: 16128462 \n",
      "Gene ID: 16131312 \n",
      "Gene ID: b4451 \n",
      "Gene ID: 16128105 \n",
      "Gene ID: 16131247 \n",
      "Gene ID: 16131392 \n",
      "Gene ID: 16131884 \n",
      "Gene ID: 16128650 \n",
      "Gene ID: 16129601 \n",
      "Gene ID: 90111311 \n",
      "Gene ID: 90111175 \n",
      "Gene ID: 16132166 \n",
      "Gene ID: 90111703 \n",
      "Gene ID: 16128795 \n",
      "Gene ID: 16128628 \n",
      "Gene ID: 16128106 \n",
      "Gene ID: 90111372 \n"
     ]
    }
   ],
   "source": [
    "window_size = len(pwm[0])\n",
    "\n",
    "# Compute the PWM scores for each sequence\n",
    "top_scores = []\n",
    "for i in range(len(new_df)):\n",
    "    seq = new_df.iloc[i]['sequence']\n",
    "    scores = []\n",
    "    for j in range(len(seq) - window_size + 1):\n",
    "        subseq = seq[j:j+window_size]\n",
    "        score = 0\n",
    "        for k in range(window_size):\n",
    "            base = subseq[k]\n",
    "            if base == 'a':\n",
    "                score += pwm[0][k]\n",
    "            elif base == 'c':\n",
    "                score += pwm[1][k]\n",
    "            elif base == 'g':\n",
    "                score += pwm[2][k]\n",
    "            elif base == 't':\n",
    "                score += pwm[3][k]\n",
    "        scores.append(score)\n",
    "    top_score = max(scores)\n",
    "    top_scores.append((new_df.iloc[i]['gene_id'], top_score))\n",
    "\n",
    "# Sort the top scores in descending order and get the top 30 scores\n",
    "sorted_scores = sorted(top_scores, key=lambda x: x[1], reverse=True)[:30]\n",
    "\n",
    "# Print the gene IDs corresponding to the top scores\n",
    "for gene_id, score in sorted_scores:\n",
    "    print(f\"Gene ID: {gene_id}\")"
   ]
  }
 ],
 "metadata": {
  "kernelspec": {
   "display_name": "Python 3 (ipykernel)",
   "language": "python",
   "name": "python3"
  },
  "language_info": {
   "codemirror_mode": {
    "name": "ipython",
    "version": 3
   },
   "file_extension": ".py",
   "mimetype": "text/x-python",
   "name": "python",
   "nbconvert_exporter": "python",
   "pygments_lexer": "ipython3",
   "version": "3.11.4"
  }
 },
 "nbformat": 4,
 "nbformat_minor": 5
}
